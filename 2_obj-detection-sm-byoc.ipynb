{
 "cells": [
  {
   "cell_type": "markdown",
   "id": "415f8f4c-bed0-4f70-8b61-bf83bd48f43d",
   "metadata": {},
   "source": [
    "# AutoGluon Object Detectino using SageMaker\n",
    "\n",
    "로컬 개발 환경이 아닌 SageMaker 훈련 인스턴스를 사용하여 훈련 수행\n",
    "\n",
    "## Build Docker image and Push to ECR\n",
    "---"
   ]
  },
  {
   "cell_type": "code",
   "execution_count": null,
   "id": "247dcb8e-25e1-4d6b-9510-2411ee06591e",
   "metadata": {
    "tags": []
   },
   "outputs": [],
   "source": [
    "%%bash\n",
    "\n",
    "#!/usr/bin/env bash\n",
    "\n",
    "echo '{\n",
    "    \"runtimes\": {\n",
    "        \"nvidia\": {\n",
    "            \"path\": \"nvidia-container-runtime\",\n",
    "            \"runtimeArgs\": []\n",
    "        }\n",
    "    }\n",
    "}' > daemon.json\n",
    "\n",
    "sudo cp daemon.json /etc/docker/daemon.json && rm daemon.json\n",
    "\n",
    "DAEMON_PATH=\"/etc/docker\"\n",
    "MEMORY_SIZE=10G\n",
    "\n",
    "FLAG=$(cat $DAEMON_PATH/daemon.json | jq 'has(\"data-root\")')\n",
    "# echo $FLAG\n",
    "\n",
    "if [ \"$FLAG\" == true ]; then\n",
    "    echo \"Already revised\"\n",
    "else\n",
    "    echo \"Add data-root and default-shm-size=$MEMORY_SIZE\"\n",
    "    sudo cp $DAEMON_PATH/daemon.json $DAEMON_PATH/daemon.json.bak\n",
    "    sudo cat $DAEMON_PATH/daemon.json.bak | jq '. += {\"data-root\":\"/home/ec2-user/SageMaker/.container/docker\",\"default-shm-size\":\"'$MEMORY_SIZE'\"}' | sudo tee $DAEMON_PATH/daemon.json > /dev/null\n",
    "    sudo service docker restart\n",
    "    echo \"Docker Restart\"\n",
    "fi\n",
    "\n",
    "sudo docker info | grep Root"
   ]
  },
  {
   "cell_type": "code",
   "execution_count": null,
   "id": "e6a5fad8-b25a-48d5-beac-ef5f6492aeae",
   "metadata": {
    "tags": []
   },
   "outputs": [],
   "source": [
    "import sagemaker\n",
    "from sagemaker import utils\n",
    "\n",
    "role = sagemaker.get_execution_role()\n",
    "sagemaker_session = sagemaker.session.Session()\n",
    "region = sagemaker_session._region_name\n",
    "\n",
    "bucket = sagemaker_session.default_bucket()\n",
    "output_path = f\"s3://{bucket}/ag-od-{utils.sagemaker_timestamp()}\""
   ]
  },
  {
   "cell_type": "code",
   "execution_count": null,
   "id": "ae27723a-8905-470e-a714-84c5f0d309f3",
   "metadata": {
    "tags": []
   },
   "outputs": [],
   "source": [
    "container = \"autogluon-objdetect-training-gpu\"\n",
    "tag = \"latest\"\n",
    "! ./build_and_push.sh $container $tag docker/Dockerfile.gpu"
   ]
  },
  {
   "cell_type": "markdown",
   "id": "f0af7a87-4749-416b-ba00-986972d1511d",
   "metadata": {},
   "source": [
    "## Training Start\n",
    "---"
   ]
  },
  {
   "cell_type": "code",
   "execution_count": null,
   "id": "1b428033-a131-424d-a9a2-c40385f8b1ed",
   "metadata": {
    "tags": []
   },
   "outputs": [],
   "source": [
    "import sys\n",
    "sys.path.append(\"./ag_scripts\")\n",
    "\n",
    "from ag_scripts.ag_model import (\n",
    "    AutoGluonSagemakerEstimator,\n",
    "    AutoGluonNonRepackInferenceModel,\n",
    "    AutoGluonSagemakerInferenceModel,\n",
    "    AutoGluonRealtimePredictor,\n",
    "    AutoGluonBatchPredictor,\n",
    ")\n",
    "\n",
    "container_uri = \"143656149352.dkr.ecr.us-east-1.amazonaws.com/autogluon-objdetect-training-gpu:latest\"\n",
    "# container_uri = \"784880277394.dkr.ecr.ap-northeast-2.amazonaws.com/ag-od-training-gpu:ag-gpu-0.7-src\"\n",
    "\n",
    "task = 'objdetection-pikachu'\n",
    "s3_train_path = f\"s3://{bucket}/{task}\"\n",
    "!aws s3 sync {task} {s3_train_path}"
   ]
  },
  {
   "cell_type": "code",
   "execution_count": null,
   "id": "8dbe319b-3d0e-4a88-81de-acc2b6657dba",
   "metadata": {
    "tags": []
   },
   "outputs": [],
   "source": [
    "# !aws s3 ls {s3_train_path}/annotations/"
   ]
  },
  {
   "cell_type": "code",
   "execution_count": null,
   "id": "4ec1e172-dbf2-4628-8fcd-627ea56e8ba0",
   "metadata": {},
   "outputs": [],
   "source": [
    "ag_hyper_params = {\n",
    "    \"checkpoint_name\": \"yolox_l_8x8_300e_coco\",\n",
    "    \"num_gpus\": -1,  # use all GPUs\n",
    "    \"val_metric\": \"map\",\n",
    "    \"annotations_path\": \"annotations/train-coco.json\",\n",
    "    \"learning_rate\": 3e-5, # we use two stage and detection head has 100x lr\n",
    "    \"per_gpu_batch_size\": 8,  # decrease it when model is large\n",
    "    \"max_epochs\": 10,  # for the real use case, at least 50\n",
    "    \"check_val_every_n_epoch\": 2, # make sure there is at least one validation\n",
    "    \"patience\": 3  # Early stop after k consective validations are not the best\n",
    "}"
   ]
  },
  {
   "cell_type": "code",
   "execution_count": null,
   "id": "f5e7aa44-9d7e-4979-a349-f71506218c38",
   "metadata": {},
   "outputs": [],
   "source": [
    "estimator = AutoGluonSagemakerEstimator(\n",
    "    custom_image_uri=container_uri,\n",
    "    role=role,\n",
    "    entry_point=\"train.py\",\n",
    "    source_dir=\"scripts\",\n",
    "    region=region,\n",
    "    instance_count=1,\n",
    "    instance_type=\"ml.g5.xlarge\",\n",
    "    #instance_type=\"local\",\n",
    "    framework_version=\"0.7\",\n",
    "    py_version=\"py39\",\n",
    "    base_job_name=\"autogluon-objdetect-train\",\n",
    "    volume_size=30,\n",
    "    disable_profiler=True,\n",
    "    debugger_hook_config=False,\n",
    "    hyperparameters=ag_hyper_params\n",
    ")"
   ]
  },
  {
   "cell_type": "code",
   "execution_count": null,
   "id": "0c019e1d-d736-464a-9e5a-8f04528cdd0d",
   "metadata": {
    "tags": []
   },
   "outputs": [],
   "source": [
    "job_name = utils.unique_name_from_base(\"autogluon-objdetect\")\n",
    "estimator.fit(\n",
    "    {\n",
    "        \"train\": s3_train_path,\n",
    "    },\n",
    "    job_name=job_name,\n",
    "    wait=False\n",
    ")\n",
    "print(job_name)"
   ]
  }
 ],
 "metadata": {
  "kernelspec": {
   "display_name": "conda_pytorch_p39",
   "language": "python",
   "name": "conda_pytorch_p39"
  },
  "language_info": {
   "codemirror_mode": {
    "name": "ipython",
    "version": 3
   },
   "file_extension": ".py",
   "mimetype": "text/x-python",
   "name": "python",
   "nbconvert_exporter": "python",
   "pygments_lexer": "ipython3",
   "version": "3.9.15"
  }
 },
 "nbformat": 4,
 "nbformat_minor": 5
}
